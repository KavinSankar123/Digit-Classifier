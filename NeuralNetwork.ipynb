{
 "cells": [
  {
   "cell_type": "code",
   "execution_count": 2,
   "metadata": {},
   "outputs": [],
   "source": [
    "import numpy as np\n",
    "import scipy.special # for the sigmoid activation function\n",
    "\n",
    "import matplotlib.pyplot\n",
    "%matplotlib inline"
   ]
  },
  {
   "cell_type": "code",
   "execution_count": 3,
   "metadata": {},
   "outputs": [],
   "source": [
    "class NeuralNetwork:\n",
    "    def __init__(self, input_nodes, hidden_nodes, output_nodes, learning_rate):\n",
    "        self.in_nodes = input_nodes\n",
    "        self.hidden_nodes = hidden_nodes\n",
    "        self.out_nodes = output_nodes\n",
    "        self.learning_rate = learning_rate\n",
    "        \n",
    "        #  Initializing weights\n",
    "        self.wih = np.random.normal(0.0, pow(self.hidden_nodes, -0.5), (self.hidden_nodes, self.in_nodes))\n",
    "        self.who = np.random.normal(0.0, pow(self.out_nodes, -0.5), (self.out_nodes, self.hidden_nodes))\n",
    "        \n",
    "        # sigmoid activation function\n",
    "        self.activation_function = lambda x: scipy.special.expit(x)\n",
    "        \n",
    "        \n",
    "    def train(self, inputs_list, targets_list):\n",
    "        # make into 2D array\n",
    "        inputs = np.array(inputs_list, ndmin=2).T\n",
    "        targets = np.array(targets_list, ndmin=2).T\n",
    "        \n",
    "        # calculate signals into hidden layer\n",
    "        hidden_inputs = np.dot(self.wih, inputs)\n",
    "        # calculate the signals emerging from hidden layer\n",
    "        hidden_outputs = self.activation_function(hidden_inputs)\n",
    "        \n",
    "        # calculate signals into final output layer\n",
    "        final_inputs = np.dot(self.who, hidden_outputs)\n",
    "        # calculate the signals emerging from final output layer\n",
    "        final_outputs = self.activation_function(final_inputs)\n",
    "        \n",
    "        # to adjust the weights between hidden and final layers\n",
    "        output_errors = targets - final_outputs\n",
    "        \n",
    "        # to adjust the weights between the input and hidden layers\n",
    "        hidden_errors = np.dot(self.who.T, output_errors)\n",
    "        \n",
    "        # update the weights for the links between the hidden and output layers\n",
    "        self.who += self.learning_rate * np.dot((output_errors * \n",
    "                    final_outputs * (1.0 - final_outputs)), np.transpose(hidden_outputs))\n",
    "        \n",
    "        # update the weights for the links between the input and hidden layers\n",
    "        self.wih += self.learning_rate * np.dot((hidden_errors * \n",
    "                    hidden_outputs * (1.0 - hidden_outputs)), np.transpose(inputs))\n",
    "        \n",
    "        \n",
    "    def query(self, inputs_list):\n",
    "        # make into 2D array\n",
    "        inputs = np.array(inputs_list, ndmin=2).T\n",
    "        \n",
    "        # inputs * weights = the hidden layer node inputs\n",
    "        hidden_inputs = np.dot(self.wih, inputs)\n",
    "        # apply activation function to all the hidden node inputs\n",
    "        hidden_outputs = self.activation_function(hidden_inputs)\n",
    "        \n",
    "        # hidden layer outputs * weights = final layer inputs\n",
    "        final_inputs = np.dot(self.who, hidden_outputs)\n",
    "        # apply activation function to all final layer inputs\n",
    "        final_outputs = self.activation_function(final_inputs)\n",
    "        \n",
    "        return final_outputs"
   ]
  },
  {
   "cell_type": "code",
   "execution_count": 4,
   "metadata": {},
   "outputs": [],
   "source": [
    "input_N = 784\n",
    "hidden_N = 200\n",
    "output_N = 10\n",
    "learning_R = 0.1\n",
    "\n",
    "n = NeuralNetwork(input_N, hidden_N, output_N, learning_R)"
   ]
  },
  {
   "cell_type": "code",
   "execution_count": 5,
   "metadata": {},
   "outputs": [],
   "source": [
    "# Opening the CSV training file and converting it to a list\n",
    "training_data_file = open(\"mnist_train.csv\", 'r')\n",
    "training_data_list = training_data_file.readlines()\n",
    "training_data_file.close()"
   ]
  },
  {
   "cell_type": "code",
   "execution_count": 6,
   "metadata": {},
   "outputs": [],
   "source": [
    "# training the model\n",
    "epochs = 2\n",
    "\n",
    "for e in range(epochs):\n",
    "    for record in training_data_list:\n",
    "        all_values = record.split(',')\n",
    "        inputs = (np.asfarray(all_values[1:]) / 255 * 0.99) + 0.01\n",
    "    \n",
    "        targets = np.zeros(output_N) + 0.01\n",
    "    \n",
    "        targets[int(all_values[0])] = 0.99\n",
    "    \n",
    "        n.train(inputs, targets)"
   ]
  },
  {
   "cell_type": "code",
   "execution_count": 7,
   "metadata": {},
   "outputs": [],
   "source": [
    "# load the mnist test data CSV file into a list\n",
    "test_data_file = open(\"mnist_test.csv\", 'r')\n",
    "test_data_list = test_data_file.readlines()\n",
    "test_data_file.close()"
   ]
  },
  {
   "cell_type": "code",
   "execution_count": 8,
   "metadata": {},
   "outputs": [],
   "source": [
    "scorecard = []\n",
    "\n",
    "for record in test_data_list:\n",
    "    all_values = record.split(',')\n",
    "    correct_label = int(all_values[0])\n",
    "    \n",
    "    #print(\"Correct label is \", correct_label)\n",
    "    \n",
    "    scaled_input = (np.asfarray(all_values[1:]) / 255 * 0.99) + 0.01\n",
    "    outputs = n.query(scaled_input)\n",
    "    \n",
    "    predicted_label = np.argmax(outputs)\n",
    "    #print(\"Network's prediction \", predicted_label)\n",
    "    #print()\n",
    "    \n",
    "    if (predicted_label == correct_label):\n",
    "        scorecard.append(1)\n",
    "    else:\n",
    "        scorecard.append(0)"
   ]
  },
  {
   "cell_type": "code",
   "execution_count": 21,
   "metadata": {},
   "outputs": [
    {
     "name": "stdout",
     "output_type": "stream",
     "text": [
      "Performance =  0.9674 or  96.74 %\n"
     ]
    }
   ],
   "source": [
    "scorecard_array = np.asarray(scorecard)\n",
    "\n",
    "avg = scorecard_array.sum() / scorecard_array.size\n",
    "percentage = avg * 100\n",
    "\n",
    "print(\"Performance = \", scorecard_array.sum() / scorecard_array.size, \"or \", '%.2f' % percentage, '%')"
   ]
  },
  {
   "cell_type": "code",
   "execution_count": null,
   "metadata": {},
   "outputs": [],
   "source": []
  }
 ],
 "metadata": {
  "kernelspec": {
   "display_name": "Python 3",
   "language": "python",
   "name": "python3"
  },
  "language_info": {
   "codemirror_mode": {
    "name": "ipython",
    "version": 3
   },
   "file_extension": ".py",
   "mimetype": "text/x-python",
   "name": "python",
   "nbconvert_exporter": "python",
   "pygments_lexer": "ipython3",
   "version": "3.8.3"
  }
 },
 "nbformat": 4,
 "nbformat_minor": 4
}
